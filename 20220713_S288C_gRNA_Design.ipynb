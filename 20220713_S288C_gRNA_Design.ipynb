{
 "cells": [
  {
   "cell_type": "code",
   "execution_count": 4,
   "metadata": {},
   "outputs": [],
   "source": [
    "from Bio.Seq import Seq\n",
    "#from Bio.Alphabet import IUPAC\n",
    "from Bio import SeqIO\n",
    "from Bio.Seq import reverse_complement\n",
    "import pandas as pd\n",
    "import numpy\n",
    "\n",
    "def find_all(a_str, sub): #custom find all function from stack overflow - lists all instances of particular search function\n",
    "    start = 0\n",
    "    while True:\n",
    "        start = a_str.find(sub, start)\n",
    "        if start == -1: return\n",
    "        yield start\n",
    "        start += 1 # use start += len(sub) to find non-overlapping matches"
   ]
  },
  {
   "cell_type": "code",
   "execution_count": 5,
   "metadata": {},
   "outputs": [
    {
     "name": "stdout",
     "output_type": "stream",
     "text": [
      "I\n",
      "5383\n",
      "5321\n",
      "II\n",
      "20068\n",
      "19790\n",
      "III\n",
      "7300\n",
      "7785\n",
      "IV\n",
      "38022\n",
      "38169\n",
      "V\n",
      "14091\n",
      "13764\n",
      "VI\n",
      "6371\n",
      "6476\n",
      "VII\n",
      "26911\n",
      "26778\n",
      "VIII\n",
      "13508\n",
      "13843\n",
      "IX\n",
      "10585\n",
      "10613\n",
      "X\n",
      "17842\n",
      "18389\n",
      "XI\n",
      "16533\n",
      "16453\n",
      "XII\n",
      "26337\n",
      "26025\n",
      "XIII\n",
      "22727\n",
      "22732\n",
      "XIV\n",
      "18883\n",
      "19051\n",
      "XV\n",
      "26583\n",
      "27107\n",
      "XVI\n",
      "23460\n",
      "23535\n",
      "I\n",
      "9432\n",
      "9215\n",
      "II\n",
      "31491\n",
      "32146\n",
      "III\n",
      "12163\n",
      "12935\n",
      "IV\n",
      "58377\n",
      "58367\n",
      "V\n",
      "23057\n",
      "22255\n",
      "VI\n",
      "10730\n",
      "10704\n",
      "VII\n",
      "41969\n",
      "42275\n",
      "VIII\n",
      "21851\n",
      "22358\n",
      "IX\n",
      "17558\n",
      "17652\n",
      "X\n",
      "29200\n",
      "28585\n",
      "XI\n",
      "25172\n",
      "26125\n",
      "XII\n",
      "41968\n",
      "42688\n",
      "XIII\n",
      "35932\n",
      "36152\n",
      "XIV\n",
      "30948\n",
      "31003\n",
      "XV\n",
      "42033\n",
      "42579\n",
      "XVI\n",
      "36425\n",
      "36628\n"
     ]
    }
   ],
   "source": [
    "#Generating Cpf1 and Cas9 guides from S288C\n",
    "seq = SeqIO.parse(\"S288C_reference_sequence_R64-2-1_20150113.fsa\", \"fasta\") #read input fasta\n",
    "with open(\"S288C_Cpf1.tsv\", \"w\") as record_file:\n",
    "    record_file.write(\"Chromosome\\tSequence\\tPAM\\tStrand\\tStart\\tEnd\\n\")\n",
    "    for seqrecord in seq:\n",
    "        chromosome = seqrecord.description.split(\"chromosome=\",1)[1][:-1]\n",
    "        print(chromosome)\n",
    "        chr_string = str(seqrecord.seq)\n",
    "        chr_string_rev = reverse_complement(chr_string)\n",
    "        TopStrand_PAMs = list(find_all(chr_string, 'TTTA')) + list(find_all(chr_string, 'TTTG')) + list(find_all(chr_string, 'TTTC'))\n",
    "        BottomStrand_PAMs = list(find_all(chr_string_rev, 'TTTA')) + list(find_all(chr_string_rev, 'TTTG')) + list(find_all(chr_string_rev, 'TTTC'))\n",
    "        x = len(TopStrand_PAMs) \n",
    "        y = len(BottomStrand_PAMs)\n",
    "        for i in TopStrand_PAMs:\n",
    "          record_file.write(chromosome+\"\\t\"+chr_string[(i+4):(i+27)]+\"\\t\"+chr_string[i:(i+4)]+\"\\t+\\t\"+str(i+4)+\"\\t\"+str(i+27)+\"\\n\")\n",
    "\n",
    "        for i in BottomStrand_PAMs:\n",
    "          record_file.write(chromosome+\"\\t\"+chr_string_rev[(i+4):(i+27)]+\"\\t\"+chr_string_rev[i:(i+4)]+\"\\t-\\t\"+str(len(chr_string_rev)-(i+4))+\"\\t\"+str(len(chr_string_rev)-(i+27))+\"\\n\")\n",
    "        print (x) \n",
    "        print (y)\n",
    "\n",
    "\n",
    "seq = SeqIO.parse(\"S288C_reference_sequence_R64-2-1_20150113.fsa\", \"fasta\") #read input fasta\n",
    "with open(\"S288C_Cas9.tsv\", \"w\") as record_file:\n",
    "    record_file.write(\"Chromosome\\tSequence\\tPAM\\tStrand\\tStart\\tEnd\\n\")\n",
    "    for seqrecord in seq:\n",
    "        chromosome = seqrecord.description.split(\"chromosome=\",1)[1][:-1]\n",
    "        print(chromosome)\n",
    "        chr_string = str(seqrecord.seq)\n",
    "        chr_string_rev = reverse_complement(chr_string)\n",
    "        TopStrand_PAMs = list(find_all(chr_string, 'AGG')) + list(find_all(chr_string, 'TGG')) + list(find_all(chr_string, 'CGG')) + list(find_all(chr_string, 'GGG'))\n",
    "        BottomStrand_PAMs = list(find_all(chr_string_rev, 'AGG')) + list(find_all(chr_string_rev, 'TGG')) + list(find_all(chr_string_rev, 'CGG')) + list(find_all(chr_string_rev, 'GGG'))\n",
    "        x = len(TopStrand_PAMs) \n",
    "        y = len(BottomStrand_PAMs)\n",
    "        for i in TopStrand_PAMs:\n",
    "          record_file.write(chromosome+\"\\t\"+chr_string[(i-20):i]+\"\\t\"+chr_string[i:(i+3)]+\"\\t+\\t\"+str(i-20)+\"\\t\"+str(i)+\"\\n\")\n",
    "\n",
    "        for i in BottomStrand_PAMs:\n",
    "          record_file.write(chromosome+\"\\t\"+chr_string_rev[(i-20):i]+\"\\t\"+chr_string_rev[i:(i+3)]+\"\\t-\\t\"+str(len(chr_string_rev)-(i-20))+\"\\t\"+str(len(chr_string_rev)-(i))+\"\\n\")\n",
    "        print (x) \n",
    "        print (y)"
   ]
  },
  {
   "cell_type": "code",
   "execution_count": 6,
   "metadata": {},
   "outputs": [
    {
     "name": "stdout",
     "output_type": "stream",
     "text": [
      "(590435, 6)\n",
      "(939973, 6)\n",
      "(590435, 6)\n",
      "(939972, 6)\n"
     ]
    }
   ],
   "source": [
    "#read in S288C gRNA list\n",
    "df_cpf1_S288C=pd.read_csv('S288C_Cpf1.tsv',delimiter='\\t',header=0)\n",
    "df_cas9_S288C=pd.read_csv('S288C_Cas9.tsv',delimiter='\\t',header=0)\n",
    "\n",
    "print(df_cpf1_S288C.shape)\n",
    "print(df_cas9_S288C.shape)\n",
    "\n",
    "df_cpf1_S288C = df_cpf1_S288C.dropna() #dropping empty rows, messes up later steps \n",
    "df_cas9_S288C = df_cas9_S288C.dropna() #dropping empty rows, messes up later steps\n",
    "\n",
    "print(df_cpf1_S288C.shape)\n",
    "print(df_cas9_S288C.shape)"
   ]
  },
  {
   "cell_type": "code",
   "execution_count": 7,
   "metadata": {},
   "outputs": [
    {
     "name": "stdout",
     "output_type": "stream",
     "text": [
      "(557711, 6)\n",
      "(873424, 6)\n"
     ]
    }
   ],
   "source": [
    "#generating list of unique Cpf1 and Cas9 guides from S288C based on sequence of the guide. \n",
    "#If two guides share the same target sequence, both are removed\n",
    "\n",
    "df_cpf1_S288C_drop = df_cpf1_S288C.drop_duplicates(subset='Sequence',keep=False)\n",
    "df_cas9_S288C_drop = df_cas9_S288C.drop_duplicates(subset='Sequence',keep=False)\n",
    "print(df_cpf1_S288C_drop.shape)\n",
    "print(df_cas9_S288C_drop.shape)"
   ]
  },
   "source": [
    "#adding hoomology arms for cloning\n",
    "df_cpf1_S288C_drop['homology_added'] = 'TCTCCGCAGTGAAAGATAAATGATCAATTTCTACTGTTGTAGAT' + df_cpf1_S288C_drop['Sequence'].astype(str) + 'TTTTTTTCTCGCGGCCCTGAGCAGTAGGTGTCTCGGG'\n",
    "df_cas9_S288C_drop['homology_added'] = 'TCTCCGCAGTGAAAGATAAATGATC' + df_cas9_S288C_drop['Sequence'].astype(str) + 'GTTTTAGAGCTAGAAATAGCAAGTTAAAATAAGGCTAGTCCGTTATCAACTTG'"
   ]
  },
  {
   "cell_type": "code",
   "execution_count": 11,
   "metadata": {},
   "outputs": [],
   "source": [
    "#write to file\n",
    "df_cas9_S288C_drop.to_csv('Cas9_S288C_Unique_homology_added_gRNAs.tsv', sep='\\t',index=False)\n",
    "df_cpf1_S288C_drop.to_csv('Cpf1_S288C_Unique_homology_added_gRNAs.tsv', sep='\\t',index=False)"
   ]
  },
  {
   "cell_type": "code",
   "execution_count": null,
   "metadata": {},
   "outputs": [],
   "source": []
  }
 ],
 "metadata": {
  "kernelspec": {
   "display_name": "Python 3",
   "language": "python",
   "name": "python3"
  },
  "language_info": {
   "codemirror_mode": {
    "name": "ipython",
    "version": 3
   },
   "file_extension": ".py",
   "mimetype": "text/x-python",
   "name": "python",
   "nbconvert_exporter": "python",
   "pygments_lexer": "ipython3",
   "version": "3.8.5"
  }
 },
 "nbformat": 4,
 "nbformat_minor": 2
}
